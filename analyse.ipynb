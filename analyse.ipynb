{
 "cells": [
  {
   "cell_type": "markdown",
   "id": "aa77ff93",
   "metadata": {},
   "source": [
    "### Let's build GPT: from scratch, in code, spelled out.\n",
    "\n",
    "See https://www.youtube.com/watch?v=kCc8FmEb1nY\n",
    "\n"
   ]
  },
  {
   "cell_type": "markdown",
   "id": "85fd6f47",
   "metadata": {},
   "source": [
    "**Tiny Shakespeare** corpus downloaded from\n",
    "\n",
    "https://raw.githubusercontent.com/karpathy/char-rnn/master/data/tinyshakespeare/input.txt"
   ]
  },
  {
   "cell_type": "code",
   "execution_count": 1,
   "id": "00f010aa",
   "metadata": {},
   "outputs": [],
   "source": [
    "tiny_shakespeare = 'data/input.txt'"
   ]
  },
  {
   "cell_type": "code",
   "execution_count": 2,
   "id": "98d2000b",
   "metadata": {},
   "outputs": [],
   "source": [
    "with open(tiny_shakespeare) as f:\n",
    "    text = f.read()"
   ]
  },
  {
   "cell_type": "code",
   "execution_count": 3,
   "id": "bc621f7b",
   "metadata": {},
   "outputs": [
    {
     "name": "stdout",
     "output_type": "stream",
     "text": [
      "Length of dataset in characters: 1115394\n"
     ]
    }
   ],
   "source": [
    "print(f\"Length of dataset in characters: {len(text)}\")"
   ]
  },
  {
   "cell_type": "code",
   "execution_count": 4,
   "id": "76f9a8c8",
   "metadata": {},
   "outputs": [],
   "source": [
    "# our vocabulary\n",
    "chars = sorted(list(set(text)))"
   ]
  },
  {
   "cell_type": "code",
   "execution_count": 5,
   "id": "ffb2d093",
   "metadata": {},
   "outputs": [],
   "source": [
    "# our vocabulary size\n",
    "vocab_size = len(chars)"
   ]
  },
  {
   "cell_type": "code",
   "execution_count": 6,
   "id": "7bfad3cb",
   "metadata": {},
   "outputs": [
    {
     "name": "stdout",
     "output_type": "stream",
     "text": [
      "\n",
      " !$&',-.3:;?ABCDEFGHIJKLMNOPQRSTUVWXYZabcdefghijklmnopqrstuvwxyz\n",
      "65\n"
     ]
    }
   ],
   "source": [
    "print(''.join(chars))\n",
    "print(vocab_size)"
   ]
  },
  {
   "cell_type": "code",
   "execution_count": 7,
   "id": "106f048f",
   "metadata": {},
   "outputs": [],
   "source": [
    "# Build simple encoder decoder, with each char represented by it's index in the vocabulary\n",
    "stoi = {ch: i for i, ch in enumerate(chars)}\n",
    "itos = {i: ch for i, ch in enumerate(chars)}\n",
    "encode = lambda s: [stoi[c] for c in s]\n",
    "decode = lambda l: ''.join(itos[i] for i in l)"
   ]
  },
  {
   "cell_type": "code",
   "execution_count": 8,
   "id": "daec8537",
   "metadata": {},
   "outputs": [
    {
     "name": "stdout",
     "output_type": "stream",
     "text": [
      "[20, 47, 1, 58, 46, 43, 56, 43]\n"
     ]
    }
   ],
   "source": [
    "print(encode(\"Hi there\"))"
   ]
  },
  {
   "cell_type": "code",
   "execution_count": 9,
   "id": "da79637a",
   "metadata": {},
   "outputs": [
    {
     "name": "stdout",
     "output_type": "stream",
     "text": [
      "Hi there\n"
     ]
    }
   ],
   "source": [
    "print(decode(encode(\"Hi there\")))"
   ]
  },
  {
   "cell_type": "markdown",
   "id": "c4c01cde",
   "metadata": {},
   "source": [
    "**See also** \n",
    "* https://github.com/google/sentencepiece\n",
    "* https://github.com/openai/tiktoken"
   ]
  }
 ],
 "metadata": {
  "kernelspec": {
   "display_name": "Python 3 (ipykernel)",
   "language": "python",
   "name": "python3"
  },
  "language_info": {
   "codemirror_mode": {
    "name": "ipython",
    "version": 3
   },
   "file_extension": ".py",
   "mimetype": "text/x-python",
   "name": "python",
   "nbconvert_exporter": "python",
   "pygments_lexer": "ipython3",
   "version": "3.10.6"
  }
 },
 "nbformat": 4,
 "nbformat_minor": 5
}
